{
 "cells": [
  {
   "cell_type": "markdown",
   "metadata": {
    "id": "qhDpnmifgmJR"
   },
   "source": [
    "#Internship Project\n",
    "#Language Translation(German to English)\n",
    "\n",
    "#Problem Statement:\n",
    "The objective of the project is to implement language\n",
    "translation model aka machine translation for converting\n",
    "German to English (and vice versa)\n",
    "For this, the data is a text file (.txt) of English-German sentence\n",
    "pairs. The actual data contains over 150,000 sentence-pairs.\n",
    "However, it is suggested to use only the first 50,000 sentence\n",
    "pairs to reduce the training time of the model.\n",
    "\n",
    "You can download the Data set from\n",
    "\n",
    "http://www.manythings.org/anki/\n",
    "\n",
    "#Text Pre-Processing\n",
    "Quite an important step in any project, especially so in NLP.\n",
    "The data we work with is more often than not unstructured so\n",
    "there are certain things we need to take care of before jumping\n",
    "to the model building part.\n",
    "\n",
    "(a) Text Cleaning\n",
    "\n",
    "(b) Text to Sequence Conversion\n",
    "\n",
    "A Seq2Seq model requires that we convert both the input and the output sentences into integer sequences of fixed length."
   ]
  },
  {
   "cell_type": "code",
   "execution_count": 1,
   "metadata": {
    "id": "E8i8jZOh0TjE",
    "scrolled": true
   },
   "outputs": [],
   "source": [
    "import string\n",
    "import re\n",
    "from numpy import array,argmax,random,take\n",
    "import pandas as pd\n",
    "from keras.models import Sequential\n",
    "from keras.layers import Dense, LSTM, Embedding, Bidirectional, RepeatVector, TimeDistributed\n",
    "from keras.preprocessing.text import Tokenizer\n",
    "from keras.preprocessing.sequence import pad_sequences\n",
    "from keras.callbacks import ModelCheckpoint\n",
    "from keras import models    \n",
    "from keras.models import load_model\n",
    "from keras import optimizers\n",
    "import matplotlib.pyplot as plt\n",
    "import numpy as np\n",
    "%matplotlib inline\n",
    "pd.set_option('display.max_colwidth',200)"
   ]
  },
  {
   "cell_type": "code",
   "execution_count": 2,
   "metadata": {},
   "outputs": [],
   "source": [
    "import tensorflow as tf\n",
    "from tensorflow.keras import optimizers\n",
    "from tensorflow.keras.models import load_model"
   ]
  },
  {
   "cell_type": "code",
   "execution_count": 3,
   "metadata": {
    "id": "RdpYE6OJ1hN1"
   },
   "outputs": [],
   "source": [
    "#function to input raw txt file\n",
    "def ingest_txt(filename):\n",
    "  #open the file\n",
    "  file = open(filename, mode='rt', encoding = 'utf-8')\n",
    "  #read all text\n",
    "  text = file.read()\n",
    "  file.close()\n",
    "  return text"
   ]
  },
  {
   "cell_type": "code",
   "execution_count": 4,
   "metadata": {
    "id": "jUy7xmiQ2u2P"
   },
   "outputs": [],
   "source": [
    "#spliting a txt into sentences\n",
    "def txtto_phrase(text):\n",
    "  sents = text.strip().split('\\n')\n",
    "  sents= [i.split('\\t')for i in sents]\n",
    "  return sents"
   ]
  },
  {
   "cell_type": "code",
   "execution_count": 5,
   "metadata": {
    "id": "5UHtf4HH3Cco"
   },
   "outputs": [],
   "source": [
    "data = ingest_txt(\"C:\\deu.txt\")\n",
    "deu_eng = txtto_phrase(data)\n",
    "deu_eng = array(deu_eng)\n",
    "deu_eng = deu_eng[:50000,:]"
   ]
  },
  {
   "cell_type": "code",
   "execution_count": 7,
   "metadata": {
    "id": "_yOyjuI59OAk"
   },
   "outputs": [],
   "source": [
    "# Initializing empty lists\n",
    "engl1=[]\n",
    "deut1=[]\n",
    "# populate the list with sentence lengths\n",
    "for i in deu_eng[:,0]:\n",
    "  engl1.append(len(i.split()))\n",
    "  \n",
    "for i in deu_eng[:,1]:\n",
    "    deut1.append(len(i.split()))"
   ]
  },
  {
   "cell_type": "code",
   "execution_count": 8,
   "metadata": {
    "id": "ALr_enPW68py"
   },
   "outputs": [],
   "source": [
    "lengthdf = pd.DataFrame({'eng':engl1, 'deu':deut1})"
   ]
  },
  {
   "cell_type": "code",
   "execution_count": 9,
   "metadata": {
    "colab": {
     "base_uri": "https://localhost:8080/",
     "height": 281
    },
    "id": "sVW_e79AP8dA",
    "outputId": "1f6a35b1-79de-48ba-e700-11c00edf4798"
   },
   "outputs": [
    {
     "data": {
      "image/png": "[encoded data removed]",
      "text/plain": [
       "<Figure size 432x288 with 2 Axes>"
      ]
     },
     "metadata": {
      "needs_background": "light"
     },
     "output_type": "display_data"
    }
   ],
   "source": [
    "lengthdf.hist(bins=30)\n",
    "plt.show()"
   ]
  },
  {
   "cell_type": "code",
   "execution_count": 10,
   "metadata": {
    "id": "ihCs_YQuQ9SU"
   },
   "outputs": [],
   "source": [
    "# method to construct a tokenizer\n",
    "def tokenization(lines):\n",
    "  tokenizer = Tokenizer()\n",
    "  tokenizer.fit_on_texts(lines)\n",
    "  return tokenizer"
   ]
  },
  {
   "cell_type": "code",
   "execution_count": 11,
   "metadata": {
    "colab": {
     "base_uri": "https://localhost:8080/"
    },
    "id": "VBwr2aEpRlBw",
    "outputId": "e1e4b0a0-67ad-40a6-b004-3b76da8faf35"
   },
   "outputs": [
    {
     "name": "stdout",
     "output_type": "stream",
     "text": [
      "Size of English Vocabulary: 6150\n"
     ]
    }
   ],
   "source": [
    "#constructing english tokenizer\n",
    "engltokenizer = tokenization(deu_eng[:,0])\n",
    "englvocab_size = len(engltokenizer.word_index)+1\n",
    "\n",
    "engllength = 8\n",
    "print('Size of English Vocabulary: %d'% englvocab_size)"
   ]
  },
  {
   "cell_type": "code",
   "execution_count": 12,
   "metadata": {},
   "outputs": [
    {
     "data": {
      "text/plain": [
       "6149"
      ]
     },
     "execution_count": 12,
     "metadata": {},
     "output_type": "execute_result"
    }
   ],
   "source": [
    "len(engltokenizer.word_index)"
   ]
  },
  {
   "cell_type": "code",
   "execution_count": 13,
   "metadata": {
    "colab": {
     "base_uri": "https://localhost:8080/"
    },
    "id": "gAMycv4JSDpB",
    "outputId": "41a04198-8b63-4cd6-a43e-7828fda79be8"
   },
   "outputs": [
    {
     "name": "stdout",
     "output_type": "stream",
     "text": [
      "Deutch Vocabulary Size: 10119\n"
     ]
    }
   ],
   "source": [
    "#prepare Deutch tokenizer\n",
    "deuttokenizer = tokenization(deu_eng[:,1])\n",
    "deutvocab_size = len(deuttokenizer.word_index)+1\n",
    "\n",
    "deutlength = 8\n",
    "print('Deutch Vocabulary Size: %d'% deutvocab_size)"
   ]
  },
  {
   "cell_type": "code",
   "execution_count": 14,
   "metadata": {
    "id": "sCVe21hBTBKt"
   },
   "outputs": [],
   "source": [
    "#encode and pad sequence\n",
    "def encode_sequences(tokenizer, length, lines):\n",
    "  #integer encode sequence\n",
    "  seq = tokenizer.texts_to_sequences(lines)\n",
    "  #pad sequence with 0 values\n",
    "  seq = pad_sequences(seq, maxlen = length, padding='post')\n",
    "  return seq"
   ]
  },
  {
   "cell_type": "code",
   "execution_count": 17,
   "metadata": {
    "id": "OXw_iRsDUAQo"
   },
   "outputs": [],
   "source": [
    "from sklearn.model_selection import train_test_split\n",
    "train, test  = train_test_split(deu_eng, test_size=0.2, random_state = 43)"
   ]
  },
  {
   "cell_type": "code",
   "execution_count": 18,
   "metadata": {
    "id": "kGwQvP8YUXXD"
   },
   "outputs": [],
   "source": [
    "#preparing training data\n",
    "train_X = encode_sequences(deuttokenizer, deutlength, train[:, 1])\n",
    "train_Y = encode_sequences(engltokenizer, engllength, train[:,0])"
   ]
  },
  {
   "cell_type": "code",
   "execution_count": 19,
   "metadata": {
    "id": "9vKZwK1HSGY0"
   },
   "outputs": [],
   "source": [
    "#preparing validation data\n",
    "test_X = encode_sequences(deuttokenizer, deutlength, test[:, 1])\n",
    "test_Y = encode_sequences(engltokenizer, engllength, test[:,0])"
   ]
  },
  {
   "cell_type": "code",
   "execution_count": 20,
   "metadata": {
    "id": "fa80Js51WOr1"
   },
   "outputs": [],
   "source": [
    "# building a NMT model\n",
    "def build_model(in_vocab, out_vocab, in_timesteps, out_timesteps, units):\n",
    "  model = Sequential()\n",
    "  model.add(Embedding(in_vocab, units, input_length=in_timesteps, mask_zero=True))\n",
    "  model.add(LSTM(units))\n",
    "  model.add(RepeatVector(out_timesteps))\n",
    "  model.add(LSTM(units, return_sequences=True))\n",
    "  model.add(Dense(out_vocab, activation='softmax'))\n",
    "  return model"
   ]
  },
  {
   "cell_type": "code",
   "execution_count": 21,
   "metadata": {
    "colab": {
     "base_uri": "https://localhost:8080/"
    },
    "id": "0hDCfmERX0t8",
    "outputId": "7a6b6c55-1a5b-458f-835b-c29286bef006"
   },
   "outputs": [
    {
     "name": "stderr",
     "output_type": "stream",
     "text": [
      "C:\\ProgramData\\Anaconda3\\lib\\site-packages\\keras\\optimizer_v2\\optimizer_v2.py:355: UserWarning: The `lr` argument is deprecated, use `learning_rate` instead.\n",
      "  warnings.warn(\n"
     ]
    }
   ],
   "source": [
    "model = build_model(deutvocab_size, englvocab_size, deutlength, engllength, 512)\n",
    "rms = optimizers.RMSprop(lr=0.001)\n",
    "model.compile(optimizer=rms, loss='sparse_categorical_crossentropy', metrics=None)"
   ]
  },
  {
   "cell_type": "code",
   "execution_count": 22,
   "metadata": {
    "colab": {
     "base_uri": "https://localhost:8080/"
    },
    "id": "RukWOMLzYipb",
    "outputId": "fe9fb09c-d5de-4358-a52f-c23d4da75307",
    "scrolled": true
   },
   "outputs": [
    {
     "name": "stdout",
     "output_type": "stream",
     "text": [
      "Epoch 1/20\n",
      "40/40 [==============================] - 115s 3s/step - loss: 3.6675 - val_loss: 2.9616\n",
      "\n",
      "Epoch 00001: val_loss improved from inf to 2.96157, saving model to deu2eng_model\n"
     ]
    },
    {
     "name": "stderr",
     "output_type": "stream",
     "text": [
      "WARNING:absl:Found untraced functions such as lstm_cell_layer_call_fn, lstm_cell_layer_call_and_return_conditional_losses, lstm_cell_1_layer_call_fn, lstm_cell_1_layer_call_and_return_conditional_losses, lstm_cell_layer_call_fn while saving (showing 5 of 10). These functions will not be directly callable after loading.\n"
     ]
    },
    {
     "name": "stdout",
     "output_type": "stream",
     "text": [
      "INFO:tensorflow:Assets written to: deu2eng_model\\assets\n"
     ]
    },
    {
     "name": "stderr",
     "output_type": "stream",
     "text": [
      "INFO:tensorflow:Assets written to: deu2eng_model\\assets\n"
     ]
    },
    {
     "name": "stdout",
     "output_type": "stream",
     "text": [
      "Epoch 2/20\n",
      "40/40 [==============================] - 106s 3s/step - loss: 2.7845 - val_loss: 2.7515\n",
      "\n",
      "Epoch 00002: val_loss improved from 2.96157 to 2.75154, saving model to deu2eng_model\n"
     ]
    },
    {
     "name": "stderr",
     "output_type": "stream",
     "text": [
      "WARNING:absl:Found untraced functions such as lstm_cell_layer_call_fn, lstm_cell_layer_call_and_return_conditional_losses, lstm_cell_1_layer_call_fn, lstm_cell_1_layer_call_and_return_conditional_losses, lstm_cell_layer_call_fn while saving (showing 5 of 10). These functions will not be directly callable after loading.\n"
     ]
    },
    {
     "name": "stdout",
     "output_type": "stream",
     "text": [
      "INFO:tensorflow:Assets written to: deu2eng_model\\assets\n"
     ]
    },
    {
     "name": "stderr",
     "output_type": "stream",
     "text": [
      "INFO:tensorflow:Assets written to: deu2eng_model\\assets\n"
     ]
    },
    {
     "name": "stdout",
     "output_type": "stream",
     "text": [
      "Epoch 3/20\n",
      "40/40 [==============================] - 107s 3s/step - loss: 2.6881 - val_loss: 2.7548\n",
      "\n",
      "Epoch 00003: val_loss did not improve from 2.75154\n",
      "Epoch 4/20\n",
      "40/40 [==============================] - 108s 3s/step - loss: 2.5947 - val_loss: 2.5891\n",
      "\n",
      "Epoch 00004: val_loss improved from 2.75154 to 2.58911, saving model to deu2eng_model\n"
     ]
    },
    {
     "name": "stderr",
     "output_type": "stream",
     "text": [
      "WARNING:absl:Found untraced functions such as lstm_cell_layer_call_fn, lstm_cell_layer_call_and_return_conditional_losses, lstm_cell_1_layer_call_fn, lstm_cell_1_layer_call_and_return_conditional_losses, lstm_cell_layer_call_fn while saving (showing 5 of 10). These functions will not be directly callable after loading.\n"
     ]
    },
    {
     "name": "stdout",
     "output_type": "stream",
     "text": [
      "INFO:tensorflow:Assets written to: deu2eng_model\\assets\n"
     ]
    },
    {
     "name": "stderr",
     "output_type": "stream",
     "text": [
      "INFO:tensorflow:Assets written to: deu2eng_model\\assets\n"
     ]
    },
    {
     "name": "stdout",
     "output_type": "stream",
     "text": [
      "Epoch 5/20\n",
      "40/40 [==============================] - 109s 3s/step - loss: 2.4641 - val_loss: 2.6175\n",
      "\n",
      "Epoch 00005: val_loss did not improve from 2.58911\n",
      "Epoch 6/20\n",
      "40/40 [==============================] - 109s 3s/step - loss: 2.3669 - val_loss: 2.4732\n",
      "\n",
      "Epoch 00006: val_loss improved from 2.58911 to 2.47323, saving model to deu2eng_model\n"
     ]
    },
    {
     "name": "stderr",
     "output_type": "stream",
     "text": [
      "WARNING:absl:Found untraced functions such as lstm_cell_layer_call_fn, lstm_cell_layer_call_and_return_conditional_losses, lstm_cell_1_layer_call_fn, lstm_cell_1_layer_call_and_return_conditional_losses, lstm_cell_layer_call_fn while saving (showing 5 of 10). These functions will not be directly callable after loading.\n"
     ]
    },
    {
     "name": "stdout",
     "output_type": "stream",
     "text": [
      "INFO:tensorflow:Assets written to: deu2eng_model\\assets\n"
     ]
    },
    {
     "name": "stderr",
     "output_type": "stream",
     "text": [
      "INFO:tensorflow:Assets written to: deu2eng_model\\assets\n"
     ]
    },
    {
     "name": "stdout",
     "output_type": "stream",
     "text": [
      "Epoch 7/20\n",
      "40/40 [==============================] - 109s 3s/step - loss: 2.2784 - val_loss: 2.4135\n",
      "\n",
      "Epoch 00007: val_loss improved from 2.47323 to 2.41347, saving model to deu2eng_model\n"
     ]
    },
    {
     "name": "stderr",
     "output_type": "stream",
     "text": [
      "WARNING:absl:Found untraced functions such as lstm_cell_layer_call_fn, lstm_cell_layer_call_and_return_conditional_losses, lstm_cell_1_layer_call_fn, lstm_cell_1_layer_call_and_return_conditional_losses, lstm_cell_layer_call_fn while saving (showing 5 of 10). These functions will not be directly callable after loading.\n"
     ]
    },
    {
     "name": "stdout",
     "output_type": "stream",
     "text": [
      "INFO:tensorflow:Assets written to: deu2eng_model\\assets\n"
     ]
    },
    {
     "name": "stderr",
     "output_type": "stream",
     "text": [
      "INFO:tensorflow:Assets written to: deu2eng_model\\assets\n"
     ]
    },
    {
     "name": "stdout",
     "output_type": "stream",
     "text": [
      "Epoch 8/20\n",
      "40/40 [==============================] - 107s 3s/step - loss: 2.1893 - val_loss: 2.3555\n",
      "\n",
      "Epoch 00008: val_loss improved from 2.41347 to 2.35550, saving model to deu2eng_model\n"
     ]
    },
    {
     "name": "stderr",
     "output_type": "stream",
     "text": [
      "WARNING:absl:Found untraced functions such as lstm_cell_layer_call_fn, lstm_cell_layer_call_and_return_conditional_losses, lstm_cell_1_layer_call_fn, lstm_cell_1_layer_call_and_return_conditional_losses, lstm_cell_layer_call_fn while saving (showing 5 of 10). These functions will not be directly callable after loading.\n"
     ]
    },
    {
     "name": "stdout",
     "output_type": "stream",
     "text": [
      "INFO:tensorflow:Assets written to: deu2eng_model\\assets\n"
     ]
    },
    {
     "name": "stderr",
     "output_type": "stream",
     "text": [
      "INFO:tensorflow:Assets written to: deu2eng_model\\assets\n"
     ]
    },
    {
     "name": "stdout",
     "output_type": "stream",
     "text": [
      "Epoch 9/20\n",
      "40/40 [==============================] - 107s 3s/step - loss: 2.1015 - val_loss: 2.2843\n",
      "\n",
      "Epoch 00009: val_loss improved from 2.35550 to 2.28430, saving model to deu2eng_model\n"
     ]
    },
    {
     "name": "stderr",
     "output_type": "stream",
     "text": [
      "WARNING:absl:Found untraced functions such as lstm_cell_layer_call_fn, lstm_cell_layer_call_and_return_conditional_losses, lstm_cell_1_layer_call_fn, lstm_cell_1_layer_call_and_return_conditional_losses, lstm_cell_layer_call_fn while saving (showing 5 of 10). These functions will not be directly callable after loading.\n"
     ]
    },
    {
     "name": "stdout",
     "output_type": "stream",
     "text": [
      "INFO:tensorflow:Assets written to: deu2eng_model\\assets\n"
     ]
    },
    {
     "name": "stderr",
     "output_type": "stream",
     "text": [
      "INFO:tensorflow:Assets written to: deu2eng_model\\assets\n"
     ]
    },
    {
     "name": "stdout",
     "output_type": "stream",
     "text": [
      "Epoch 10/20\n",
      "40/40 [==============================] - 108s 3s/step - loss: 2.0231 - val_loss: 2.2259\n",
      "\n",
      "Epoch 00010: val_loss improved from 2.28430 to 2.22588, saving model to deu2eng_model\n"
     ]
    },
    {
     "name": "stderr",
     "output_type": "stream",
     "text": [
      "WARNING:absl:Found untraced functions such as lstm_cell_layer_call_fn, lstm_cell_layer_call_and_return_conditional_losses, lstm_cell_1_layer_call_fn, lstm_cell_1_layer_call_and_return_conditional_losses, lstm_cell_layer_call_fn while saving (showing 5 of 10). These functions will not be directly callable after loading.\n"
     ]
    },
    {
     "name": "stdout",
     "output_type": "stream",
     "text": [
      "INFO:tensorflow:Assets written to: deu2eng_model\\assets\n"
     ]
    },
    {
     "name": "stderr",
     "output_type": "stream",
     "text": [
      "INFO:tensorflow:Assets written to: deu2eng_model\\assets\n"
     ]
    },
    {
     "name": "stdout",
     "output_type": "stream",
     "text": [
      "Epoch 11/20\n",
      "40/40 [==============================] - 108s 3s/step - loss: 1.9491 - val_loss: 2.2055\n",
      "\n",
      "Epoch 00011: val_loss improved from 2.22588 to 2.20547, saving model to deu2eng_model\n"
     ]
    },
    {
     "name": "stderr",
     "output_type": "stream",
     "text": [
      "WARNING:absl:Found untraced functions such as lstm_cell_layer_call_fn, lstm_cell_layer_call_and_return_conditional_losses, lstm_cell_1_layer_call_fn, lstm_cell_1_layer_call_and_return_conditional_losses, lstm_cell_layer_call_fn while saving (showing 5 of 10). These functions will not be directly callable after loading.\n"
     ]
    },
    {
     "name": "stdout",
     "output_type": "stream",
     "text": [
      "INFO:tensorflow:Assets written to: deu2eng_model\\assets\n"
     ]
    },
    {
     "name": "stderr",
     "output_type": "stream",
     "text": [
      "INFO:tensorflow:Assets written to: deu2eng_model\\assets\n"
     ]
    },
    {
     "name": "stdout",
     "output_type": "stream",
     "text": [
      "Epoch 12/20\n",
      "40/40 [==============================] - 108s 3s/step - loss: 1.8800 - val_loss: 2.1359\n",
      "\n",
      "Epoch 00012: val_loss improved from 2.20547 to 2.13586, saving model to deu2eng_model\n"
     ]
    },
    {
     "name": "stderr",
     "output_type": "stream",
     "text": [
      "WARNING:absl:Found untraced functions such as lstm_cell_layer_call_fn, lstm_cell_layer_call_and_return_conditional_losses, lstm_cell_1_layer_call_fn, lstm_cell_1_layer_call_and_return_conditional_losses, lstm_cell_layer_call_fn while saving (showing 5 of 10). These functions will not be directly callable after loading.\n"
     ]
    },
    {
     "name": "stdout",
     "output_type": "stream",
     "text": [
      "INFO:tensorflow:Assets written to: deu2eng_model\\assets\n"
     ]
    },
    {
     "name": "stderr",
     "output_type": "stream",
     "text": [
      "INFO:tensorflow:Assets written to: deu2eng_model\\assets\n"
     ]
    },
    {
     "name": "stdout",
     "output_type": "stream",
     "text": [
      "Epoch 13/20\n",
      "40/40 [==============================] - 108s 3s/step - loss: 1.8117 - val_loss: 2.0927\n",
      "\n",
      "Epoch 00013: val_loss improved from 2.13586 to 2.09270, saving model to deu2eng_model\n"
     ]
    },
    {
     "name": "stderr",
     "output_type": "stream",
     "text": [
      "WARNING:absl:Found untraced functions such as lstm_cell_layer_call_fn, lstm_cell_layer_call_and_return_conditional_losses, lstm_cell_1_layer_call_fn, lstm_cell_1_layer_call_and_return_conditional_losses, lstm_cell_layer_call_fn while saving (showing 5 of 10). These functions will not be directly callable after loading.\n"
     ]
    },
    {
     "name": "stdout",
     "output_type": "stream",
     "text": [
      "INFO:tensorflow:Assets written to: deu2eng_model\\assets\n"
     ]
    },
    {
     "name": "stderr",
     "output_type": "stream",
     "text": [
      "INFO:tensorflow:Assets written to: deu2eng_model\\assets\n"
     ]
    },
    {
     "name": "stdout",
     "output_type": "stream",
     "text": [
      "Epoch 14/20\n",
      "40/40 [==============================] - 108s 3s/step - loss: 1.7456 - val_loss: 2.0717\n",
      "\n",
      "Epoch 00014: val_loss improved from 2.09270 to 2.07168, saving model to deu2eng_model\n"
     ]
    },
    {
     "name": "stderr",
     "output_type": "stream",
     "text": [
      "WARNING:absl:Found untraced functions such as lstm_cell_layer_call_fn, lstm_cell_layer_call_and_return_conditional_losses, lstm_cell_1_layer_call_fn, lstm_cell_1_layer_call_and_return_conditional_losses, lstm_cell_layer_call_fn while saving (showing 5 of 10). These functions will not be directly callable after loading.\n"
     ]
    },
    {
     "name": "stdout",
     "output_type": "stream",
     "text": [
      "INFO:tensorflow:Assets written to: deu2eng_model\\assets\n"
     ]
    },
    {
     "name": "stderr",
     "output_type": "stream",
     "text": [
      "INFO:tensorflow:Assets written to: deu2eng_model\\assets\n"
     ]
    },
    {
     "name": "stdout",
     "output_type": "stream",
     "text": [
      "Epoch 15/20\n",
      "40/40 [==============================] - 108s 3s/step - loss: 1.6823 - val_loss: 2.0305\n",
      "\n",
      "Epoch 00015: val_loss improved from 2.07168 to 2.03055, saving model to deu2eng_model\n"
     ]
    },
    {
     "name": "stderr",
     "output_type": "stream",
     "text": [
      "WARNING:absl:Found untraced functions such as lstm_cell_layer_call_fn, lstm_cell_layer_call_and_return_conditional_losses, lstm_cell_1_layer_call_fn, lstm_cell_1_layer_call_and_return_conditional_losses, lstm_cell_layer_call_fn while saving (showing 5 of 10). These functions will not be directly callable after loading.\n"
     ]
    },
    {
     "name": "stdout",
     "output_type": "stream",
     "text": [
      "INFO:tensorflow:Assets written to: deu2eng_model\\assets\n"
     ]
    },
    {
     "name": "stderr",
     "output_type": "stream",
     "text": [
      "INFO:tensorflow:Assets written to: deu2eng_model\\assets\n"
     ]
    },
    {
     "name": "stdout",
     "output_type": "stream",
     "text": [
      "Epoch 16/20\n",
      "40/40 [==============================] - 108s 3s/step - loss: 1.6227 - val_loss: 2.0129\n",
      "\n",
      "Epoch 00016: val_loss improved from 2.03055 to 2.01289, saving model to deu2eng_model\n"
     ]
    },
    {
     "name": "stderr",
     "output_type": "stream",
     "text": [
      "WARNING:absl:Found untraced functions such as lstm_cell_layer_call_fn, lstm_cell_layer_call_and_return_conditional_losses, lstm_cell_1_layer_call_fn, lstm_cell_1_layer_call_and_return_conditional_losses, lstm_cell_layer_call_fn while saving (showing 5 of 10). These functions will not be directly callable after loading.\n"
     ]
    },
    {
     "name": "stdout",
     "output_type": "stream",
     "text": [
      "INFO:tensorflow:Assets written to: deu2eng_model\\assets\n"
     ]
    },
    {
     "name": "stderr",
     "output_type": "stream",
     "text": [
      "INFO:tensorflow:Assets written to: deu2eng_model\\assets\n"
     ]
    },
    {
     "name": "stdout",
     "output_type": "stream",
     "text": [
      "Epoch 17/20\n",
      "40/40 [==============================] - 108s 3s/step - loss: 1.5599 - val_loss: 1.9879\n",
      "\n",
      "Epoch 00017: val_loss improved from 2.01289 to 1.98794, saving model to deu2eng_model\n"
     ]
    },
    {
     "name": "stderr",
     "output_type": "stream",
     "text": [
      "WARNING:absl:Found untraced functions such as lstm_cell_layer_call_fn, lstm_cell_layer_call_and_return_conditional_losses, lstm_cell_1_layer_call_fn, lstm_cell_1_layer_call_and_return_conditional_losses, lstm_cell_layer_call_fn while saving (showing 5 of 10). These functions will not be directly callable after loading.\n"
     ]
    },
    {
     "name": "stdout",
     "output_type": "stream",
     "text": [
      "INFO:tensorflow:Assets written to: deu2eng_model\\assets\n"
     ]
    },
    {
     "name": "stderr",
     "output_type": "stream",
     "text": [
      "INFO:tensorflow:Assets written to: deu2eng_model\\assets\n"
     ]
    },
    {
     "name": "stdout",
     "output_type": "stream",
     "text": [
      "Epoch 18/20\n",
      "40/40 [==============================] - 108s 3s/step - loss: 1.5002 - val_loss: 1.9403\n",
      "\n",
      "Epoch 00018: val_loss improved from 1.98794 to 1.94031, saving model to deu2eng_model\n"
     ]
    },
    {
     "name": "stderr",
     "output_type": "stream",
     "text": [
      "WARNING:absl:Found untraced functions such as lstm_cell_layer_call_fn, lstm_cell_layer_call_and_return_conditional_losses, lstm_cell_1_layer_call_fn, lstm_cell_1_layer_call_and_return_conditional_losses, lstm_cell_layer_call_fn while saving (showing 5 of 10). These functions will not be directly callable after loading.\n"
     ]
    },
    {
     "name": "stdout",
     "output_type": "stream",
     "text": [
      "INFO:tensorflow:Assets written to: deu2eng_model\\assets\n"
     ]
    },
    {
     "name": "stderr",
     "output_type": "stream",
     "text": [
      "INFO:tensorflow:Assets written to: deu2eng_model\\assets\n"
     ]
    },
    {
     "name": "stdout",
     "output_type": "stream",
     "text": [
      "Epoch 19/20\n",
      "40/40 [==============================] - 108s 3s/step - loss: 1.4398 - val_loss: 1.9096\n",
      "\n",
      "Epoch 00019: val_loss improved from 1.94031 to 1.90955, saving model to deu2eng_model\n"
     ]
    },
    {
     "name": "stderr",
     "output_type": "stream",
     "text": [
      "WARNING:absl:Found untraced functions such as lstm_cell_layer_call_fn, lstm_cell_layer_call_and_return_conditional_losses, lstm_cell_1_layer_call_fn, lstm_cell_1_layer_call_and_return_conditional_losses, lstm_cell_layer_call_fn while saving (showing 5 of 10). These functions will not be directly callable after loading.\n"
     ]
    },
    {
     "name": "stdout",
     "output_type": "stream",
     "text": [
      "INFO:tensorflow:Assets written to: deu2eng_model\\assets\n"
     ]
    },
    {
     "name": "stderr",
     "output_type": "stream",
     "text": [
      "INFO:tensorflow:Assets written to: deu2eng_model\\assets\n"
     ]
    },
    {
     "name": "stdout",
     "output_type": "stream",
     "text": [
      "Epoch 20/20\n",
      "40/40 [==============================] - 107s 3s/step - loss: 1.3821 - val_loss: 1.8673\n",
      "\n",
      "Epoch 00020: val_loss improved from 1.90955 to 1.86728, saving model to deu2eng_model\n"
     ]
    },
    {
     "name": "stderr",
     "output_type": "stream",
     "text": [
      "WARNING:absl:Found untraced functions such as lstm_cell_layer_call_fn, lstm_cell_layer_call_and_return_conditional_losses, lstm_cell_1_layer_call_fn, lstm_cell_1_layer_call_and_return_conditional_losses, lstm_cell_layer_call_fn while saving (showing 5 of 10). These functions will not be directly callable after loading.\n"
     ]
    },
    {
     "name": "stdout",
     "output_type": "stream",
     "text": [
      "INFO:tensorflow:Assets written to: deu2eng_model\\assets\n"
     ]
    },
    {
     "name": "stderr",
     "output_type": "stream",
     "text": [
      "INFO:tensorflow:Assets written to: deu2eng_model\\assets\n"
     ]
    }
   ],
   "source": [
    "filename = 'deu2eng_model'\n",
    "Checkpoint = ModelCheckpoint(filename, monitor= 'val_loss', verbose=1, save_best_only=True, mode='min')\n",
    "history = model.fit(train_X, train_Y.reshape(train_Y.shape[0], train_Y.shape[1], 1),\n",
    "                   epochs=20, batch_size=512,\n",
    "                   validation_split = 0.5,\n",
    "                   callbacks=[Checkpoint], verbose=1)"
   ]
  },
  {
   "cell_type": "code",
   "execution_count": 23,
   "metadata": {
    "colab": {
     "base_uri": "https://localhost:8080/",
     "height": 265
    },
    "id": "xqSFle5OeNG5",
    "outputId": "74f86daa-3414-4e85-b6f2-fa5d9a60bd0c"
   },
   "outputs": [
    {
     "data": {
      "image/png": "[encoded data removed]",
      "text/plain": [
       "<Figure size 432x288 with 1 Axes>"
      ]
     },
     "metadata": {
      "needs_background": "light"
     },
     "output_type": "display_data"
    }
   ],
   "source": [
    "plt.plot(history.history['loss'])\n",
    "plt.plot(history.history['val_loss'])\n",
    "plt.legend(['train','validation'])\n",
    "plt.show()"
   ]
  },
  {
   "cell_type": "code",
   "execution_count": 24,
   "metadata": {
    "colab": {
     "base_uri": "https://localhost:8080/"
    },
    "id": "MmHsdqbUz7RL",
    "outputId": "e12620f6-44a9-4578-8834-2fe091c59a47"
   },
   "outputs": [],
   "source": [
    "#model = load_model('deu2eng_model')  #Uncomment to load if not in memory\n",
    "preds = model.predict(test_X)"
   ]
  },
  {
   "cell_type": "code",
   "execution_count": 25,
   "metadata": {},
   "outputs": [],
   "source": [
    "#Constructing an inverse lookup for english vocab\n",
    "eng_inv_dict  = {v:k for k,v in engltokenizer.word_index.items()}"
   ]
  },
  {
   "cell_type": "code",
   "execution_count": 26,
   "metadata": {},
   "outputs": [],
   "source": [
    "#Creating final dataframe with actual and predicted\n",
    "translated_df = pd.DataFrame(data={'test':test[:,0]})"
   ]
  },
  {
   "cell_type": "code",
   "execution_count": 28,
   "metadata": {},
   "outputs": [],
   "source": [
    "translated_list = []\n",
    "for i,_ in enumerate(preds):\n",
    "    translated_list.append(' '.join([eng_inv_dict.get(np.argmax(j), '') for j in preds[i]]))"
   ]
  },
  {
   "cell_type": "code",
   "execution_count": 29,
   "metadata": {},
   "outputs": [],
   "source": [
    "translated_df['predicted'] = pd.Series(translated_list)"
   ]
  },
  {
   "cell_type": "code",
   "execution_count": 30,
   "metadata": {},
   "outputs": [
    {
     "data": {
      "text/html": [
       "<div>\n",
       "<style scoped>\n",
       "    .dataframe tbody tr th:only-of-type {\n",
       "        vertical-align: middle;\n",
       "    }\n",
       "\n",
       "    .dataframe tbody tr th {\n",
       "        vertical-align: top;\n",
       "    }\n",
       "\n",
       "    .dataframe thead th {\n",
       "        text-align: right;\n",
       "    }\n",
       "</style>\n",
       "<table border=\"1\" class=\"dataframe\">\n",
       "  <thead>\n",
       "    <tr style=\"text-align: right;\">\n",
       "      <th></th>\n",
       "      <th>test</th>\n",
       "      <th>predicted</th>\n",
       "    </tr>\n",
       "  </thead>\n",
       "  <tbody>\n",
       "    <tr>\n",
       "      <th>0</th>\n",
       "      <td>Tom shot Mary.</td>\n",
       "      <td>tom saw mary mary</td>\n",
       "    </tr>\n",
       "    <tr>\n",
       "      <th>1</th>\n",
       "      <td>I can help you now.</td>\n",
       "      <td>i can help you</td>\n",
       "    </tr>\n",
       "    <tr>\n",
       "      <th>2</th>\n",
       "      <td>Turn it on.</td>\n",
       "      <td>come it in</td>\n",
       "    </tr>\n",
       "    <tr>\n",
       "      <th>3</th>\n",
       "      <td>Tom is merciless.</td>\n",
       "      <td>tom is quite</td>\n",
       "    </tr>\n",
       "    <tr>\n",
       "      <th>4</th>\n",
       "      <td>That's for suckers.</td>\n",
       "      <td>it's what i i</td>\n",
       "    </tr>\n",
       "    <tr>\n",
       "      <th>...</th>\n",
       "      <td>...</td>\n",
       "      <td>...</td>\n",
       "    </tr>\n",
       "    <tr>\n",
       "      <th>9995</th>\n",
       "      <td>Go away!</td>\n",
       "      <td>come away</td>\n",
       "    </tr>\n",
       "    <tr>\n",
       "      <th>9996</th>\n",
       "      <td>Something is coming.</td>\n",
       "      <td>this one to</td>\n",
       "    </tr>\n",
       "    <tr>\n",
       "      <th>9997</th>\n",
       "      <td>You'll be happy.</td>\n",
       "      <td>you look busy</td>\n",
       "    </tr>\n",
       "    <tr>\n",
       "      <th>9998</th>\n",
       "      <td>Do you like these?</td>\n",
       "      <td>do you like this</td>\n",
       "    </tr>\n",
       "    <tr>\n",
       "      <th>9999</th>\n",
       "      <td>Can you hear me?</td>\n",
       "      <td>you you</td>\n",
       "    </tr>\n",
       "  </tbody>\n",
       "</table>\n",
       "<p>10000 rows × 2 columns</p>\n",
       "</div>"
      ],
      "text/plain": [
       "                      test              predicted\n",
       "0           Tom shot Mary.  tom saw mary mary    \n",
       "1      I can help you now.     i can help you    \n",
       "2              Turn it on.        come it in     \n",
       "3        Tom is merciless.      tom is quite     \n",
       "4      That's for suckers.      it's what i i    \n",
       "...                    ...                    ...\n",
       "9995              Go away!        come away      \n",
       "9996  Something is coming.       this one to     \n",
       "9997      You'll be happy.     you look busy     \n",
       "9998    Do you like these?   do you like this    \n",
       "9999      Can you hear me?          you you      \n",
       "\n",
       "[10000 rows x 2 columns]"
      ]
     },
     "execution_count": 30,
     "metadata": {},
     "output_type": "execute_result"
    }
   ],
   "source": [
    "translated_df"
   ]
  }
 ],
 "metadata": {
  "accelerator": "GPU",
  "colab": {
   "collapsed_sections": [],
   "name": "GermantoEnglish.ipynb",
   "provenance": []
  },
  "kernelspec": {
   "display_name": "Python 3",
   "language": "python",
   "name": "python3"
  },
  "language_info": {
   "codemirror_mode": {
    "name": "ipython",
    "version": 3
   },
   "file_extension": ".py",
   "mimetype": "text/x-python",
   "name": "python",
   "nbconvert_exporter": "python",
   "pygments_lexer": "ipython3",
   "version": "3.8.8"
  }
 },
 "nbformat": 4,
 "nbformat_minor": 1
}
